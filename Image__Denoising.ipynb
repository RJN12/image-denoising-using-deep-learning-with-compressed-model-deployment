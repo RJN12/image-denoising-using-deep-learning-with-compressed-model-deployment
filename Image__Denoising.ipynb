{
  "nbformat": 4,
  "nbformat_minor": 0,
  "metadata": {
    "accelerator": "GPU",
    "colab": {
      "name": "Image__Denoising.ipynb",
      "provenance": [],
      "collapsed_sections": [],
      "toc_visible": true,
      "machine_shape": "hm"
    },
    "kernelspec": {
      "display_name": "Python 3",
      "name": "python3"
    }
  },
  "cells": [
    {
      "cell_type": "markdown",
      "metadata": {
        "id": "BDBw45DjdJmO"
      },
      "source": [
        "#Creating data pipeline"
      ]
    },
    {
      "cell_type": "code",
      "metadata": {
        "id": "E4QA-QY4tXR5"
      },
      "source": [
        "\n",
        "import tensorflow as tf\n",
        "\n",
        "import os\n",
        "import numpy as np\n",
        "import pandas as pd\n",
        "import cv2\n",
        "import matplotlib.pyplot as plt\n",
        "from PIL import Image\n",
        "import imgaug.augmenters as iaa\n",
        "import numpy as np\n",
        "from skimage.util import random_noise\n",
        "import skimage\n"
      ],
      "execution_count": null,
      "outputs": []
    },
    {
      "cell_type": "markdown",
      "metadata": {
        "id": "-JBIrpNKB3n5"
      },
      "source": [
        "#dataset generation by adding various noise"
      ]
    },
    {
      "cell_type": "code",
      "metadata": {
        "id": "_N6KDdFctIQL"
      },
      "source": [
        " class Dataset:\n",
        "  \n",
        "    \n",
        "    def __init__(self, images_dir, file_names):\n",
        "       \n",
        "        self.ids = tf.data.Dataset.list_files(images_dir+\"*.png\")\n",
        "        self.file_names = file_names\n",
        "        self.te = []\n",
        "        for f in self.ids:\n",
        "          self.te.append(f)\n",
        "     \n",
        "        \n",
        "    def __getitem__(self, i):\n",
        "        \n",
        "        image4 = tf.io.read_file(self.te[i])\n",
        "        image = tf.image.decode_png(image4, channels=3, dtype=tf.uint8)\n",
        "        image = tf.image.resize(image, [180,180])\n",
        "        image = image/255.0\n",
        "    \n",
        "        image_noise = image       \n",
        "      \n",
        "        if (self.file_names != \"X_trainffe\"):\n",
        "          \n",
        "          a = np.random.uniform()\n",
        "\n",
        "          if a<0.2:\n",
        "              image = image\n",
        "              image_noise = skimage.util.random_noise(image.numpy(), mode=\"gaussian\")\n",
        "          elif a<0.4:\n",
        "              image = image\n",
        "              image_noise = skimage.util.random_noise(image.numpy(), mode=\"localvar\")\n",
        "          elif a<0.6:\n",
        "              image = image\n",
        "              image_noise = skimage.util.random_noise(image.numpy(), mode=\"poisson\")\n",
        "          elif a<0.8:\n",
        "              image = image\n",
        "              image_noise = skimage.util.random_noise(image.numpy(), mode=\"s&p\")\n",
        "          else:\n",
        "              image = image\n",
        "              image_noise = skimage.util.random_noise(image.numpy(), mode=\"speckle\")\n",
        "            \n",
        "        return image_noise,image\n",
        "        \n",
        "    def __len__(self):\n",
        "        return len(self.ids)\n",
        "\n",
        "\n",
        "class Dataloder(tf.keras.utils.Sequence):    \n",
        "    def __init__(self, dataset, batch_size=1, shuffle=False):\n",
        "        self.dataset = dataset\n",
        "        self.batch_size = batch_size\n",
        "        self.shuffle = shuffle\n",
        "        self.indexes = np.arange(len(dataset))\n",
        "\n",
        "    def __getitem__(self, i):\n",
        "        \n",
        "        # collect batch data\n",
        "        start = i * self.batch_size\n",
        "        stop = (i + 1) * self.batch_size\n",
        "        data = []\n",
        "        for j in range(start, stop):\n",
        "            data.append(self.dataset[j])\n",
        "        \n",
        "        batch = [np.stack(samples, axis=0) for samples in zip(*data)]\n",
        "        \n",
        "        return tuple(batch)\n",
        "    \n",
        "    def __len__(self):\n",
        "        return len(self.indexes) // self.batch_size\n",
        "    \n",
        "    def on_epoch_end(self):\n",
        "       \n",
        "        if self.shuffle:\n",
        "            self.indexes = np.random.permutation(self.indexes)           \n",
        "      \n",
        "src_dir = 'data/final/'\n",
        "test_path = 'data/Test/Set68/'\n",
        "train_dataset = Dataset(src_dir,\"X_train\")\n",
        "test_dataset  = Dataset(test_path,\"X_test\")\n",
        "BATCH_SIZE=4\n",
        "train_dataloader = Dataloder(train_dataset, batch_size=BATCH_SIZE, shuffle=False)\n",
        "test_dataloader = Dataloder(test_dataset, batch_size=BATCH_SIZE, shuffle=False)"
      ],
      "execution_count": null,
      "outputs": []
    },
    {
      "cell_type": "code",
      "metadata": {
        "id": "DHX02b1_2Brv"
      },
      "source": [
        "print(train_dataloader[0][0].shape)\n",
        "assert train_dataloader[0][0].shape == (BATCH_SIZE, 180, 180,3)\n",
        "assert train_dataloader[0][1].shape == (BATCH_SIZE, 180, 180,3)"
      ],
      "execution_count": null,
      "outputs": []
    },
    {
      "cell_type": "markdown",
      "metadata": {
        "id": "3FBmogDrCAqc"
      },
      "source": [
        "#Following noise added using skimage module\n",
        "*   gaussian\n",
        "*   localvar\n",
        "*   poisson\n",
        "*   s&p\n",
        "*   speckle\n"
      ]
    },
    {
      "cell_type": "code",
      "metadata": {
        "colab": {
          "background_save": true
        },
        "id": "QuyqbRAU3uMD"
      },
      "source": [
        "import matplotlib.pyplot as plt\n",
        "plt.figure(figsize=(20,30))\n",
        "plt.subplot(2,2,1)\n",
        "plt.imshow(train_dataloader[0][1][2,:,:,:],cmap=\"gray\")\n",
        "plt.subplot(2,2,2)\n",
        "plt.imshow(train_dataloader[0][1][3,:,:,:],cmap=\"gray\")\n",
        "plt.subplot(2,2,3)\n",
        "plt.imshow(train_dataloader[0][0][2,:,:,:],cmap=\"gray\")\n",
        "plt.subplot(2,2,4)\n",
        "plt.imshow(train_dataloader[0][0][3,:,:,:],cmap=\"gray\")"
      ],
      "execution_count": null,
      "outputs": []
    },
    {
      "cell_type": "markdown",
      "metadata": {
        "id": "qyrkGnV_Cxq0"
      },
      "source": [
        "# Custom Model Architecture "
      ]
    },
    {
      "cell_type": "code",
      "metadata": {
        "id": "nvAKgQYD4eeQ"
      },
      "source": [
        "\n",
        "from tensorflow.keras import models, layers\n",
        "from tensorflow.keras.models import Model\n",
        "from tensorflow.keras.layers import BatchNormalization, Activation, Flatten\n",
        "from tensorflow.keras.optimizers import Adam\n",
        "import tensorflow as tf\n",
        "import tensorflow as tf\n",
        "from matplotlib import pyplot as plt\n",
        "from tensorflow.keras import layers\n",
        "import numpy as np\n",
        "import keras\n",
        "from keras import backend as K\n",
        "from keras.layers import Dense, Input\n",
        "from keras.layers import Conv2D, Flatten, Lambda,MaxPooling2D,LeakyReLU, Subtract,Dropout,BatchNormalization,ZeroPadding2D,Activation\n",
        "from keras.layers import Reshape, Conv2DTranspose\n",
        "from keras.models import Model\n",
        "from keras.datasets import mnist\n",
        "from keras.losses import mse, binary_crossentropy\n",
        "from keras import backend as K\n",
        "import tensorflow_probability as tfp\n",
        "from keras.preprocessing.image import ImageDataGenerator\n",
        "import warnings\n",
        "warnings.filterwarnings('ignore')\n",
        "\n",
        "\n",
        "\n",
        "\n",
        "\n",
        "inp = layers.Input(shape=(None,None,3))\n",
        "\n",
        "\n",
        "a1 = Conv2D(256, (3, 3), activation='relu',strides=1,padding='same') (inp)\n",
        "\n",
        "\n",
        "a4 = BatchNormalization(momentum=0.8) (a1)\n",
        "\n",
        "a1 = Conv2D(128, (3, 3), activation='relu',strides=1,padding='same') (a4)\n",
        "\n",
        "a3 = BatchNormalization(momentum=0.8) (a1)\n",
        "\n",
        "\n",
        "\n",
        "a1 = Conv2D(128, (3, 3), activation='relu',strides=1,padding='same') (a3)\n",
        "\n",
        "a1 = BatchNormalization(momentum=0.8) (a1)\n",
        "\n",
        "\n",
        "a2 = tf.keras.layers.Concatenate()([a1, a3])\n",
        "\n",
        "a1 = Conv2DTranspose(filters=64, kernel_size=(3, 3),activation='relu', strides=1, padding='same') (a2)\n",
        "a1 = BatchNormalization(momentum=0.8) (a1)\n",
        "\n",
        "\n",
        "\n",
        "a1 = Conv2DTranspose(filters=128, kernel_size=(3, 3), activation='relu',strides=1, padding='same') (a1)\n",
        "a1 = BatchNormalization(momentum=0.8) (a1)\n",
        "\n",
        "\n",
        "a1 = Conv2DTranspose(filters=256, kernel_size=(3, 3), activation='relu',strides=1, padding='same') (a2)\n",
        "a1 = BatchNormalization(momentum=0.8) (a1)\n",
        "a2 = tf.keras.layers.Concatenate()([a1, a4])\n",
        "\n",
        "\n",
        "a1 = Conv2DTranspose(filters=1, kernel_size=(3, 3), strides=1, padding='same') (a2)\n",
        "a1 = BatchNormalization(momentum=0.8) (a1)\n",
        "z = Activation('relu') (a1)\n",
        "z = Conv2D(filters=1, kernel_size=(3,3), strides=(1,1), padding='same')(z)\n",
        "#z=  Subtract()([out, inp])\n",
        "z=  Subtract()([inp, z])\n",
        "model = Model(inp, z, name='model')\n",
        "\n",
        "model.summary()"
      ],
      "execution_count": null,
      "outputs": []
    },
    {
      "cell_type": "code",
      "metadata": {
        "id": "HtUzxnLHAwAL"
      },
      "source": [
        "from keras.utils.vis_utils import plot_model\n",
        "\n",
        "plot_model(model, to_file='model_plot_custom.png', show_shapes=True, show_layer_names=True)"
      ],
      "execution_count": null,
      "outputs": []
    },
    {
      "cell_type": "code",
      "metadata": {
        "id": "YstOGuHC4jul"
      },
      "source": [
        "from keras.callbacks import TensorBoard\n",
        "from keras.callbacks import EarlyStopping, ModelCheckpoint\n",
        "from keras.callbacks import LearningRateScheduler\n",
        "from tensorflow.keras.callbacks import ReduceLROnPlateau\n",
        "from datetime import datetime\n",
        "\n",
        "callbacks = [ModelCheckpoint('./best_custom.h5', save_weights_only=True, save_best_only=True, \\\n",
        "                                      mode='min', monitor='loss'),\n",
        "   \n",
        "    tf.keras.callbacks.ReduceLROnPlateau(monitor='loss', min_lr=0.000001,patience=2),\n",
        "    TensorBoard(log_dir=\"best_custom\"),EarlyStopping(monitor='val_loss',patience=3)]\n",
        "\n",
        "model.compile( optimizer=Adam(lr=0.00001),loss=\"mse\")\n",
        "\n",
        "history = model.fit_generator(train_dataloader, steps_per_epoch=len(train_dataloader), epochs=30,validation_data=test_dataloader,callbacks=callbacks,  )\n"
      ],
      "execution_count": null,
      "outputs": []
    },
    {
      "cell_type": "code",
      "metadata": {
        "id": "N3WKdavgmOn7"
      },
      "source": [
        "\n",
        "%load_ext tensorboard\n",
        "#!rm -rf ./logs/ \n",
        "\n",
        "%tensorboard --logdir best_custom"
      ],
      "execution_count": null,
      "outputs": []
    },
    {
      "cell_type": "markdown",
      "metadata": {
        "id": "0mzRm3a1sDVh"
      },
      "source": [
        "#Testing the Model "
      ]
    },
    {
      "cell_type": "code",
      "metadata": {
        "id": "CQR_NfsTsav-"
      },
      "source": [
        "\n",
        "def get_file_size(file_path):\n",
        "    size = os.path.getsize(file_path)\n",
        "    return size\n",
        "def convert_bytes(size, unit=None):\n",
        "    if unit == \"KB\":\n",
        "        return print('File size: ' + str(round(size / 1024, 3)) + ' Kilobytes')\n",
        "    elif unit == \"MB\":\n",
        "        return print('File size: ' + str(round(size / (1024 * 1024), 3)) + ' Megabytes')\n",
        "    else:\n",
        "        return print('File size: ' + str(size) + ' bytes')"
      ],
      "execution_count": null,
      "outputs": []
    },
    {
      "cell_type": "code",
      "metadata": {
        "id": "cw7xHXAnsexU"
      },
      "source": [
        "#size of the model \n",
        "convert_bytes(get_file_size(\"best_custom.h5\"), \"MB\")\n"
      ],
      "execution_count": null,
      "outputs": []
    },
    {
      "cell_type": "code",
      "metadata": {
        "id": "SUOtNvnS_sGJ"
      },
      "source": [
        "\n",
        "import logging\n",
        "import argparse\n",
        "import logging\n",
        "import os, time, glob\n",
        "import PIL.Image as Image\n",
        "import numpy as np\n",
        "import pandas as pd\n",
        "\n",
        "from keras.callbacks import CSVLogger, ModelCheckpoint, LearningRateScheduler\n",
        "from keras.models import load_model\n",
        "from keras.optimizers import Adam\n",
        "from skimage.measure import compare_psnr, compare_ssim\n",
        "\n",
        "def test(model):\n",
        "    \n",
        "    print('Start to test on {}'.format('data/Test/color'))\n",
        "    \n",
        "       psnr = []\n",
        "    ssim = []\n",
        "    file_list = glob.glob('{}/*.png'.format('data/Test/color'))\n",
        "    for file in file_list:\n",
        "     \n",
        "        image4 = tf.io.read_file(file)\n",
        "        img_clean = tf.image.decode_png(image4, channels=3, dtype=tf.uint8).numpy() / 255.0\n",
        "\n",
        "        a = np.random.uniform()\n",
        "        if a<0.2:\n",
        "             \n",
        "              img_test = skimage.util.random_noise(img_clean, mode=\"gaussian\")\n",
        "        elif a<0.4:\n",
        "             \n",
        "              img_test = skimage.util.random_noise(img_clean, mode=\"localvar\")\n",
        "        elif a<0.6:\n",
        "             \n",
        "              img_test = skimage.util.random_noise(img_clean, mode=\"poisson\")\n",
        "        elif a<0.8:\n",
        "             \n",
        "              img_test = skimage.util.random_noise(img_clean, mode=\"s&p\")\n",
        "        else:\n",
        "              \n",
        "              img_test = skimage.util.random_noise(img_clean, mode=\"speckle\")\n",
        "\n",
        "    \n",
        "        img_test = img_test.astype('float32')\n",
        "      \n",
        "        x_test = img_test.reshape(1, img_test.shape[0], img_test.shape[1], 3) \n",
        "        y_predict = model.predict(x_test)\n",
        "       \n",
        "        img_out = y_predict.reshape(img_clean.shape)\n",
        "        img_out = np.clip(img_out, 0, 1)\n",
        "        psnr_noise, psnr_denoised = compare_psnr(img_clean, img_test), compare_psnr(img_clean, img_out)\n",
        "        ssim_noise, ssim_denoised = compare_ssim(img_clean, img_test,multichannel=True), compare_ssim(img_clean, img_out,multichannel=True)\n",
        "        psnr.append(psnr_denoised)\n",
        "       \n",
        "        ssim.append(ssim_denoised)\n",
        "       \n",
        "    \n",
        "    psnr_avg = sum(psnr)/len(psnr)\n",
        "    ssim_avg = sum(ssim)/len(ssim)\n",
        "    name.append('Average')\n",
        "    psnr.append(psnr_avg)\n",
        "    ssim.append(ssim_avg)\n",
        "    print('Average PSNR = {0:.2f}, SSIM = {1:.2f}'.format(psnr_avg, ssim_avg))\n",
        "    \n",
        "    pd.DataFrame({'name':np.array(name), 'psnr':np.array(psnr), 'ssim':np.array(ssim)}).to_csv(out_dir+'/metrics.csv', index=True)\n",
        "\n",
        "test(model) "
      ],
      "execution_count": null,
      "outputs": []
    },
    {
      "cell_type": "code",
      "metadata": {
        "id": "gXOzBJ92_3zS"
      },
      "source": [
        "file_list = glob.glob('{}/*.png'.format('data/Test/Set68'))\n",
        "for file in file_list[:5]:\n",
        "        # read image\n",
        "        image4 = tf.io.read_file(file)\n",
        "        img_clean = tf.image.decode_png(image4, channels=3, dtype=tf.uint8).numpy()\n",
        "        a = np.random.uniform()\n",
        "        if a<0.2:\n",
        "             \n",
        "              img_test = skimage.util.random_noise(img_clean, mode=\"gaussian\")\n",
        "        elif a<0.4:\n",
        "             \n",
        "              img_test = skimage.util.random_noise(img_clean, mode=\"localvar\")\n",
        "        elif a<0.6:\n",
        "             \n",
        "              img_test = skimage.util.random_noise(img_clean, mode=\"poisson\")\n",
        "        elif a<0.8:\n",
        "             \n",
        "              img_test = skimage.util.random_noise(img_clean, mode=\"s&p\")\n",
        "        else:\n",
        "              \n",
        "              img_test = skimage.util.random_noise(img_clean, mode=\"speckle\")\n",
        "\n",
        "        img_test = img_test.astype('float32')\n",
        "        # predict\n",
        "        x_test = img_test.reshape(1, img_test.shape[0], img_test.shape[1], 3) \n",
        "        y_predict = model.predict(x_test)\n",
        "        import matplotlib.pyplot as plt\n",
        "        plt.figure(figsize=(35,30))\n",
        "        plt.subplot(1,3,1)\n",
        "       # x_test[:,:,:] = np.clip(img_clean[:,:,:], 0, 1)\n",
        "        plt.imshow(img_clean[:,:,:])\n",
        "        \n",
        "        plt.subplot(1,3,2)\n",
        "        x_test[0,:,:,:] = np.clip(x_test[0,:,:,:], 0, 1)\n",
        "        plt.imshow(x_test[0,:,:,:])\n",
        "\n",
        "        plt.subplot(1,3,3)\n",
        "        y_predict[0,:,:,:] = np.clip(y_predict[0,:,:,:], 0, 1)\n",
        "        plt.imshow(y_predict[0,:,:,:])\n",
        "        plt.show()\n",
        "              "
      ],
      "execution_count": null,
      "outputs": []
    },
    {
      "cell_type": "markdown",
      "metadata": {
        "id": "h5Av6wS9OXEd"
      },
      "source": [
        "#Model Architecture edsr"
      ]
    },
    {
      "cell_type": "code",
      "metadata": {
        "id": "HA8rUgPIOafZ"
      },
      "source": [
        "#https://github.com/krasserm/super-resolution/tree/master/model\n",
        "from tensorflow.python.keras.layers import Add, Conv2D, Input, Lambda,subtract \n",
        "from tensorflow.python.keras.models import Model\n",
        "from tensorflow.keras.models import Model as model\n",
        "from keras.optimizers import Adam\n",
        "\n",
        "\n",
        "\n",
        "def edsr(scale, num_filters=64, num_res_blocks=8, res_block_scaling=None):\n",
        "    x_in = Input(shape=(None, None, 3))\n",
        "    x = x_in #Lambda(normalize)(x_in)\n",
        "\n",
        "    x = b = Conv2D(num_filters, 3, padding='same')(x)\n",
        "    for i in range(num_res_blocks):\n",
        "        b = res_block(b, num_filters, res_block_scaling)\n",
        "    b = Conv2D(num_filters, 3, padding='same')(b)\n",
        "    x = Add()([x, b])\n",
        "\n",
        "    x = upsample(x, scale, num_filters)\n",
        "    x = Conv2D(3, 3,activation = \"sigmoid\", padding='same')(x)\n",
        "\n",
        "   # x = Lambda(denormalize)(x)\n",
        "    return Model(x_in, x, name=\"edsr\")\n",
        "\n",
        "\n",
        "def res_block(x_in, filters, scaling):\n",
        "    x = Conv2D(filters, 3, padding='same', activation='relu')(x_in)\n",
        "    x = Conv2D(filters, 3, padding='same')(x)\n",
        "    if scaling:\n",
        "        x = Lambda(lambda t: t * scaling)(x)\n",
        "    x = Add() ([x_in, x])\n",
        "    return x\n",
        "\n",
        "\n",
        "def upsample(x, scale, num_filters):\n",
        "    def upsample_1(x, factor, **kwargs):\n",
        "        x = Conv2D(num_filters * (factor ** 2), 3, padding='same', **kwargs)(x)\n",
        "        return Lambda(pixel_shuffle(scale=factor))(x)\n",
        "\n",
        "    if scale == 2:\n",
        "        x = upsample_1(x, 2, name='conv2d_1_scale_2')\n",
        "    elif scale == 3:\n",
        "        x = upsample_1(x, 3, name='conv2d_1_scale_3')\n",
        "    elif scale == 4:\n",
        "        x = upsample_1(x, 2, name='conv2d_1_scale_2')\n",
        "        x = upsample_1(x, 2, name='conv2d_2_scale_2')\n",
        "\n",
        "    return x"
      ],
      "execution_count": null,
      "outputs": []
    },
    {
      "cell_type": "code",
      "metadata": {
        "id": "F9Da5xsrOo59"
      },
      "source": [
        "\n",
        "model = edsr(scale=1, num_res_blocks=8)\n",
        "model.summary()"
      ],
      "execution_count": null,
      "outputs": []
    },
    {
      "cell_type": "code",
      "metadata": {
        "id": "6aTcmpd9BFz4"
      },
      "source": [
        "from keras.utils.vis_utils import plot_model\n",
        "\n",
        "plot_model(model, to_file='model_plot_EDSR.png', show_shapes=True, show_layer_names=True)"
      ],
      "execution_count": null,
      "outputs": []
    },
    {
      "cell_type": "code",
      "metadata": {
        "id": "ggznw56ROtHx"
      },
      "source": [
        "from keras.callbacks import TensorBoard\n",
        "from keras.callbacks import EarlyStopping, ModelCheckpoint\n",
        "from keras.callbacks import LearningRateScheduler\n",
        "from tensorflow.keras.callbacks import ReduceLROnPlateau\n",
        "from datetime import datetime\n",
        "\n",
        "callbacks = [ModelCheckpoint('./best_edsr1.h5', save_weights_only=True, save_best_only=True, \\\n",
        "                                      mode='min', monitor='loss'),\n",
        "   \n",
        "    tf.keras.callbacks.ReduceLROnPlateau(monitor='loss', min_lr=0.000001,patience=2),\n",
        "    TensorBoard(log_dir=\"best_edsr1\"),EarlyStopping(monitor='val_loss',patience=3)]\n",
        "\n",
        "model.compile( optimizer=Adam(lr=0.0001),loss=\"mse\")\n",
        "\n",
        "\n",
        "history = model.fit_generator(train_dataloader, steps_per_epoch=len(train_dataloader), epochs=30,validation_data=test_dataloader,callbacks=callbacks,  )\n"
      ],
      "execution_count": null,
      "outputs": []
    },
    {
      "cell_type": "markdown",
      "metadata": {
        "id": "bUpAx22gAzvB"
      },
      "source": [
        "#Testing model"
      ]
    },
    {
      "cell_type": "code",
      "metadata": {
        "id": "FVcKyzpDAwRM"
      },
      "source": [
        "convert_bytes(get_file_size(\"best_edsr1.h5\"), \"MB\")\n"
      ],
      "execution_count": null,
      "outputs": []
    },
    {
      "cell_type": "code",
      "metadata": {
        "id": "FvYs4gisAwRO"
      },
      "source": [
        "#https://github.com/hellloxiaotian/BRDNet/blob/master/grayimage/mainimprovement.py\n",
        "import logging\n",
        "import argparse\n",
        "import logging\n",
        "import os, time, glob\n",
        "import PIL.Image as Image\n",
        "import numpy as np\n",
        "import pandas as pd\n",
        "\n",
        "from keras.callbacks import CSVLogger, ModelCheckpoint, LearningRateScheduler\n",
        "from keras.models import load_model\n",
        "from keras.optimizers import Adam\n",
        "from skimage.measure import compare_psnr, compare_ssim\n",
        "\n",
        "def test(model):\n",
        "    \n",
        "    print('Start to test on {}'.format('data/Test/color'))\n",
        "    \n",
        "            \n",
        "    name = []\n",
        "    psnr = []\n",
        "    ssim = []\n",
        "    file_list = glob.glob('{}/*.png'.format('data/Test/color'))\n",
        "    for file in file_list:\n",
        "      \n",
        "        image4 = tf.io.read_file(file)\n",
        "        img_clean = tf.image.decode_png(image4, channels=3, dtype=tf.uint8).numpy() / 255.0\n",
        "\n",
        "        a = np.random.uniform()\n",
        "\n",
        "\n",
        "        if a<0.2:\n",
        "             \n",
        "              img_test = skimage.util.random_noise(img_clean, mode=\"gaussian\")\n",
        "        elif a<0.4:\n",
        "             \n",
        "              img_test = skimage.util.random_noise(img_clean, mode=\"localvar\")\n",
        "        elif a<0.6:\n",
        "             \n",
        "              img_test = skimage.util.random_noise(img_clean, mode=\"poisson\")\n",
        "        elif a<0.8:\n",
        "             \n",
        "              img_test = skimage.util.random_noise(img_clean, mode=\"s&p\")\n",
        "        else:\n",
        "              \n",
        "              img_test = skimage.util.random_noise(img_clean, mode=\"speckle\")\n",
        "\n",
        "        img_test = img_test.astype('float32')\n",
        "        x_test = img_test.reshape(1, img_test.shape[0], img_test.shape[1], 3) \n",
        "        y_predict = model.predict(x_test)\n",
        "        \n",
        "        img_out = y_predict.reshape(img_clean.shape)\n",
        "        img_out = np.clip(img_out, 0, 1)\n",
        "        psnr_noise, psnr_denoised = compare_psnr(img_clean, img_test), compare_psnr(img_clean, img_out)\n",
        "        ssim_noise, ssim_denoised = compare_ssim(img_clean, img_test,multichannel=True), compare_ssim(img_clean, img_out,multichannel=True)\n",
        "        psnr.append(psnr_denoised)\n",
        "        print(psnr)\n",
        "        ssim.append(ssim_denoised)\n",
        "        \n",
        "    \n",
        "    psnr_avg = sum(psnr)/len(psnr)\n",
        "    ssim_avg = sum(ssim)/len(ssim)\n",
        "    name.append('Average')\n",
        "    psnr.append(psnr_avg)\n",
        "    ssim.append(ssim_avg)\n",
        "    print('Average PSNR = {0:.2f}, SSIM = {1:.2f}'.format(psnr_avg, ssim_avg))\n",
        "    \n",
        "    pd.DataFrame({'name':np.array(name), 'psnr':np.array(psnr), 'ssim':np.array(ssim)}).to_csv(out_dir+'/metrics.csv', index=True)\n",
        "\n",
        "test(model) "
      ],
      "execution_count": null,
      "outputs": []
    },
    {
      "cell_type": "code",
      "metadata": {
        "id": "rnhs2u7OAwRQ"
      },
      "source": [
        "#https://github.com/bhattbhavesh91/tflite-tutorials/blob/master/tflite-part-2.ipynb.\n",
        "\n",
        "TF_LITE_MODEL_FILE_NAME = \"tf_lite_model.tflite\"\n",
        "tf_lite_converter = tf.lite.TFLiteConverter.from_keras_model(model)\n",
        "tf_lite_converter.optimizations = [tf.lite.Optimize.OPTIMIZE_FOR_SIZE]\n",
        "\n",
        "tflite_model = tf_lite_converter.convert()\n",
        "\n",
        "tflite_model_name = TF_LITE_MODEL_FILE_NAME\n",
        "open(tflite_model_name, \"wb\").write(tflite_model)"
      ],
      "execution_count": null,
      "outputs": []
    },
    {
      "cell_type": "code",
      "metadata": {
        "id": "XOI2SenVAwRR"
      },
      "source": [
        "convert_bytes(get_file_size(TF_LITE_MODEL_FILE_NAME), \"MB\")\n"
      ],
      "execution_count": null,
      "outputs": []
    },
    {
      "cell_type": "code",
      "metadata": {
        "id": "QfQ4ecXxAwRR"
      },
      "source": [
        "interpreter = tf.lite.Interpreter(model_path = TF_LITE_MODEL_FILE_NAME)\n",
        "input_details = interpreter.get_input_details()\n",
        "output_details = interpreter.get_output_details()\n",
        "print(\"Input Shape:\", input_details[0]['shape'])\n",
        "print(\"Input Type:\", input_details[0]['dtype'])\n",
        "print(\"Output Shape:\", output_details[0]['shape'])\n",
        "print(\"Output Type:\", output_details[0]['dtype'])"
      ],
      "execution_count": null,
      "outputs": []
    },
    {
      "cell_type": "code",
      "metadata": {
        "id": "hA3PJvSGAwRS"
      },
      "source": [
        "\n",
        "interpreter.resize_tensor_input(input_details[0]['index'], (1, 180, 180,3))\n",
        "interpreter.resize_tensor_input(output_details[0]['index'], (1, 180, 180,3))\n",
        "interpreter.allocate_tensors()\n",
        "input_details = interpreter.get_input_details()\n",
        "output_details = interpreter.get_output_details()\n",
        "print(\"Input Shape:\", input_details[0]['shape'])\n",
        "print(\"Input Type:\", input_details[0]['dtype'])\n",
        "print(\"Output Shape:\", output_details[0]['shape'])\n",
        "print(\"Output Type:\", output_details[0]['dtype'])"
      ],
      "execution_count": null,
      "outputs": []
    },
    {
      "cell_type": "code",
      "metadata": {
        "id": "_pw8Yy-lAwRT"
      },
      "source": [
        "\n",
        "import logging\n",
        "import argparse\n",
        "import logging\n",
        "import os, time, glob\n",
        "import PIL.Image as Image\n",
        "import numpy as np\n",
        "import pandas as pd\n",
        "\n",
        "from keras.callbacks import CSVLogger, ModelCheckpoint, LearningRateScheduler\n",
        "from keras.models import load_model\n",
        "from keras.optimizers import Adam\n",
        "from skimage.measure import compare_psnr, compare_ssim\n",
        "\n",
        "def test(model):\n",
        "    \n",
        "    print('Start to test on {}'.format('data/Test/color'))\n",
        "    \n",
        "            \n",
        "    \n",
        "    psnr = []\n",
        "    ssim = []\n",
        "    file_list = glob.glob('{}/*.png'.format('data/Test/color'))\n",
        "    for file in file_list:\n",
        "     \n",
        "        image4 = tf.io.read_file(file)\n",
        "        img_clean = tf.image.decode_png(image4, channels=3, dtype=tf.uint8).numpy() / 255.0\n",
        "\n",
        "        a = np.random.uniform()\n",
        "\n",
        "\n",
        "        if a<0.2:\n",
        "             \n",
        "              img_test = skimage.util.random_noise(img_clean, mode=\"gaussian\")\n",
        "        elif a<0.4:\n",
        "             \n",
        "              img_test = skimage.util.random_noise(img_clean, mode=\"localvar\")\n",
        "        elif a<0.6:\n",
        "             \n",
        "              img_test = skimage.util.random_noise(img_clean, mode=\"poisson\")\n",
        "        elif a<0.8:\n",
        "             \n",
        "              img_test = skimage.util.random_noise(img_clean, mode=\"s&p\")\n",
        "        else:\n",
        "              \n",
        "              img_test = skimage.util.random_noise(img_clean, mode=\"speckle\")\n",
        "\n",
        "      \n",
        "        img_test = img_test.astype('float32')\n",
        "        \n",
        "        x_test = img_test.reshape(1, img_test.shape[0], img_test.shape[1], 3) \n",
        "    \n",
        "        interpreter.set_tensor(input_details[0]['index'], x_test)\n",
        "        interpreter.invoke()\n",
        "        y_predict = interpreter.get_tensor(output_details[0]['index'])\n",
        "       \n",
        "        img_out = y_predict.reshape(img_clean.shape)\n",
        "        img_out = np.clip(img_out, 0, 1)\n",
        "        psnr_noise, psnr_denoised = compare_psnr(img_clean, img_test), compare_psnr(img_clean, img_out)\n",
        "        ssim_noise, ssim_denoised = compare_ssim(img_clean, img_test,multichannel=True), compare_ssim(img_clean, img_out,multichannel=True)\n",
        "        psnr.append(psnr_denoised)\n",
        "        print(psnr)\n",
        "        ssim.append(ssim_denoised)\n",
        "       \n",
        "    \n",
        "    psnr_avg = sum(psnr)/len(psnr)\n",
        "    ssim_avg = sum(ssim)/len(ssim)\n",
        "    name.append('Average')\n",
        "    psnr.append(psnr_avg)\n",
        "    ssim.append(ssim_avg)\n",
        "    print('Average PSNR = {0:.2f}, SSIM = {1:.2f}'.format(psnr_avg, ssim_avg))\n",
        "    \n",
        "    pd.DataFrame({'name':np.array(name), 'psnr':np.array(psnr), 'ssim':np.array(ssim)}).to_csv(out_dir+'/metrics.csv', index=True)\n",
        "\n",
        "test(model) "
      ],
      "execution_count": null,
      "outputs": []
    },
    {
      "cell_type": "code",
      "metadata": {
        "id": "6BO3Qru-9lnU"
      },
      "source": [
        "\n",
        "from tensorflow import keras\n",
        "model.load_weights('best_edsr1.h5')\n"
      ],
      "execution_count": null,
      "outputs": []
    },
    {
      "cell_type": "code",
      "metadata": {
        "id": "nUp0qG32AwRZ"
      },
      "source": [
        "import glob\n",
        "import numpy as np\n",
        "import tensorflow as tf\n",
        "import skimage\n",
        "file_list = glob.glob('{}/*.png'.format('data/mixeddata/DIV2K_train_HR'))\n",
        "for file in file_list[:5]:\n",
        "        # read image\n",
        "        image4 = tf.io.read_file(file)\n",
        "        img_clean = tf.image.decode_png(image4, channels=3).numpy()\n",
        "        a = np.random.uniform()\n",
        "        if a<0.2:\n",
        "             \n",
        "              img_test = skimage.util.random_noise(img_clean, mode=\"gaussian\")\n",
        "        elif a<0.4:\n",
        "             \n",
        "              img_test = skimage.util.random_noise(img_clean, mode=\"localvar\")\n",
        "        elif a<0.6:\n",
        "             \n",
        "              img_test = skimage.util.random_noise(img_clean, mode=\"poisson\")\n",
        "        elif a<0.8:\n",
        "             \n",
        "              img_test = skimage.util.random_noise(img_clean, mode=\"s&p\")\n",
        "        else:\n",
        "              \n",
        "              img_test = skimage.util.random_noise(img_clean, mode=\"speckle\")\n",
        "\n",
        "        img_test = img_test.astype('float32')\n",
        "        # predict\n",
        "        x_test = img_test.reshape(1, img_test.shape[0], img_test.shape[1], 3) \n",
        "        y_predict = model.predict(x_test)\n",
        "        import matplotlib.pyplot as plt\n",
        "        plt.figure(figsize=(35,45))\n",
        "        plt.subplot(1,3,1)\n",
        "       # x_test[:,:,:] = np.clip(img_clean[:,:,:], 0, 1)\n",
        "        plt.imshow(img_clean[:,:,:])\n",
        "        \n",
        "        plt.subplot(1,3,2)\n",
        "        x_test[0,:,:,:] = np.clip(x_test[0,:,:,:], 0, 1)\n",
        "        plt.imshow(x_test[0,:,:,:])\n",
        "\n",
        "        plt.subplot(1,3,3)\n",
        "        y_predict[0,:,:,:] = np.clip(y_predict[0,:,:,:], 0, 1)\n",
        "        plt.imshow(y_predict[0,:,:,:])\n",
        "        plt.show()\n",
        "              "
      ],
      "execution_count": null,
      "outputs": []
    },
    {
      "cell_type": "markdown",
      "metadata": {
        "id": "hS1c6kdZ3kEm"
      },
      "source": [
        "#Model Architecture WDSR"
      ]
    },
    {
      "cell_type": "code",
      "metadata": {
        "id": "tNoNPiks3kSS"
      },
      "source": [
        "!pip install tensorflow_addons"
      ],
      "execution_count": null,
      "outputs": []
    },
    {
      "cell_type": "code",
      "metadata": {
        "id": "GUlTXqEf3cxM"
      },
      "source": [
        "import tensorflow_addons as tfa\n",
        "\n",
        "from tensorflow.python.keras.layers import Add, Conv2D, Input, Lambda,subtract \n",
        "from tensorflow.python.keras.models import Model\n",
        "\n",
        "\n",
        "\n",
        "\n",
        "def wdsr_a(scale, num_filters=32, num_res_blocks=8, res_block_expansion=4, res_block_scaling=None):\n",
        "    return wdsr(scale, num_filters, num_res_blocks, res_block_expansion, res_block_scaling, res_block_a)\n",
        "\n",
        "\n",
        "def wdsr_b(scale, num_filters=32, num_res_blocks=8, res_block_expansion=6, res_block_scaling=None):\n",
        "    return wdsr(scale, num_filters, num_res_blocks, res_block_expansion, res_block_scaling, res_block_b)\n",
        "\n",
        "\n",
        "def wdsr(scale, num_filters, num_res_blocks, res_block_expansion, res_block_scaling, res_block):\n",
        "    x_in = Input(shape=(None, None, 3))\n",
        "    x = x_in #Lambda(normalize)(x_in)\n",
        "\n",
        "    # main branch\n",
        "    m = conv2d_weightnorm(num_filters, 3, padding='same')(x)\n",
        "    for i in range(num_res_blocks):\n",
        "        m = res_block(m, num_filters, res_block_expansion, kernel_size=3, scaling=res_block_scaling)\n",
        "    m = conv2d_weightnorm(3, 3, padding='same', name=f'conv2d_main_scale_{scale}')(m)\n",
        "   # m = Lambda(pixel_shuffle(scale))(m)\n",
        "\n",
        "    # skip branch\n",
        "    s = conv2d_weightnorm(3, 5, padding='same', name=f'conv2d_skip_scale_{scale}')(x)\n",
        "   # s = Lambda(pixel_shuffle(scale))(s)\n",
        "\n",
        "    x = Add()([m, s])\n",
        "    #x = Lambda(denormalize)(x)\n",
        "\n",
        "    return Model(x_in, x, name=\"wdsr\")\n",
        "\n",
        "\n",
        "def res_block_a(x_in, num_filters, expansion, kernel_size, scaling):\n",
        "    x = conv2d_weightnorm(num_filters * expansion, kernel_size, padding='same', activation='relu')(x_in)\n",
        "    x = conv2d_weightnorm(num_filters, kernel_size, padding='same')(x)\n",
        "    if scaling:\n",
        "        x = Lambda(lambda t: t * scaling)(x)\n",
        "    x = Add() ([x_in, x])\n",
        "    return x\n",
        "\n",
        "\n",
        "def res_block_b(x_in, num_filters, expansion, kernel_size, scaling):\n",
        "    linear = 0.8\n",
        "    x = conv2d_weightnorm(num_filters * expansion, 1, padding='same', activation='relu')(x_in)\n",
        "    x = conv2d_weightnorm(int(num_filters * linear), 1, padding='same')(x)\n",
        "    x = conv2d_weightnorm(num_filters, kernel_size, padding='same')(x)\n",
        "    if scaling:\n",
        "        x = Lambda(lambda t: t * scaling)(x)\n",
        "    x = Add()([x_in, x])\n",
        "    return x\n",
        "\n",
        "\n",
        "def conv2d_weightnorm(filters, kernel_size, padding='same', activation=None, **kwargs):\n",
        "    return tfa.layers.WeightNormalization(Conv2D(filters, kernel_size, padding=padding, activation=activation, **kwargs), data_init=False)"
      ],
      "execution_count": null,
      "outputs": []
    },
    {
      "cell_type": "code",
      "metadata": {
        "id": "JNaJD4Zg3paJ"
      },
      "source": [
        "\n",
        "model = wdsr_a(scale=4, num_res_blocks=2)\n",
        "model.summary()"
      ],
      "execution_count": null,
      "outputs": []
    },
    {
      "cell_type": "code",
      "metadata": {
        "id": "ONZGYAmHBflb"
      },
      "source": [
        "from keras.utils.vis_utils import plot_model\n",
        "\n",
        "plot_model(model, to_file='model_plot_WDSR.png', show_shapes=True, show_layer_names=True)"
      ],
      "execution_count": null,
      "outputs": []
    },
    {
      "cell_type": "code",
      "metadata": {
        "id": "cOP8sQjD3tgL"
      },
      "source": [
        "from keras.callbacks import TensorBoard\n",
        "from keras.callbacks import EarlyStopping, ModelCheckpoint\n",
        "from keras.callbacks import LearningRateScheduler\n",
        "from tensorflow.keras.callbacks import ReduceLROnPlateau\n",
        "from datetime import datetime\n",
        "from keras.optimizers import Adam\n",
        "\n",
        "\n",
        "callbacks = [ModelCheckpoint('./best_wdsr1.h5', save_weights_only=True, save_best_only=True, \\\n",
        "                                      mode='min', monitor='loss'),\n",
        "   \n",
        "       tf.keras.callbacks.ReduceLROnPlateau(monitor='loss', min_lr=0.000001,patience=2),\n",
        "\n",
        "    TensorBoard(log_dir=\"best_wdsr1\"),EarlyStopping(monitor='val_loss',patience=3)]\n",
        "\n",
        "model.compile( optimizer=Adam(lr=0.0001),loss=\"mse\")\n",
        "\n",
        "history = model.fit_generator(train_dataloader, steps_per_epoch=len(train_dataloader), epochs=30,validation_data=test_dataloader,callbacks=callbacks,  )\n"
      ],
      "execution_count": null,
      "outputs": []
    },
    {
      "cell_type": "code",
      "metadata": {
        "id": "klaqdbUXyQSU"
      },
      "source": [
        "convert_bytes(get_file_size(\"best_wdsr1.h5\"), \"KB\")\n"
      ],
      "execution_count": null,
      "outputs": []
    },
    {
      "cell_type": "code",
      "metadata": {
        "id": "14aZcZjyyQSW"
      },
      "source": [
        "\n",
        "import logging\n",
        "import argparse\n",
        "import logging\n",
        "import os, time, glob\n",
        "import PIL.Image as Image\n",
        "import numpy as np\n",
        "import pandas as pd\n",
        "#from keras import backend as K\n",
        "#import tensorflow as tf\n",
        "from keras.callbacks import CSVLogger, ModelCheckpoint, LearningRateScheduler\n",
        "from keras.models import load_model\n",
        "from keras.optimizers import Adam\n",
        "from skimage.measure import compare_psnr, compare_ssim\n",
        "\n",
        "def test(model):\n",
        "    \n",
        "    print('Start to test on {}'.format('data/Test/color'))\n",
        "\n",
        "   \n",
        "    psnr = []\n",
        "    ssim = []\n",
        "    file_list = glob.glob('{}/*.png'.format('data/Test/color'))\n",
        "    for file in file_list:\n",
        "       \n",
        "        image4 = tf.io.read_file(file)\n",
        "        img_clean = tf.image.decode_png(image4, channels=3, dtype=tf.uint8).numpy() / 255.0\n",
        "\n",
        "        a = np.random.uniform()\n",
        "\n",
        "\n",
        "        if a<0.2:\n",
        "             \n",
        "              img_test = skimage.util.random_noise(img_clean, mode=\"gaussian\")\n",
        "        elif a<0.4:\n",
        "             \n",
        "              img_test = skimage.util.random_noise(img_clean, mode=\"localvar\")\n",
        "        elif a<0.6:\n",
        "             \n",
        "              img_test = skimage.util.random_noise(img_clean, mode=\"poisson\")\n",
        "        elif a<0.8:\n",
        "             \n",
        "              img_test = skimage.util.random_noise(img_clean, mode=\"s&p\")\n",
        "        else:\n",
        "              \n",
        "              img_test = skimage.util.random_noise(img_clean, mode=\"speckle\")\n",
        "\n",
        "        img_test = img_test.astype('float32')\n",
        "        x_test = img_test.reshape(1, img_test.shape[0], img_test.shape[1], 3) \n",
        "        y_predict = model.predict(x_test)\n",
        "       \n",
        "        img_out = y_predict.reshape(img_clean.shape)\n",
        "        img_out = np.clip(img_out, 0, 1)\n",
        "        psnr_noise, psnr_denoised = compare_psnr(img_clean, img_test), compare_psnr(img_clean, img_out)\n",
        "        ssim_noise, ssim_denoised = compare_ssim(img_clean, img_test,multichannel=True), compare_ssim(img_clean, img_out,multichannel=True)\n",
        "        psnr.append(psnr_denoised)\n",
        "        print(psnr)\n",
        "        ssim.append(ssim_denoised)\n",
        "        \n",
        "    \n",
        "    psnr_avg = sum(psnr)/len(psnr)\n",
        "    ssim_avg = sum(ssim)/len(ssim)\n",
        "    name.append('Average')\n",
        "    psnr.append(psnr_avg)\n",
        "    ssim.append(ssim_avg)\n",
        "    print('Average PSNR = {0:.2f}, SSIM = {1:.2f}'.format(psnr_avg, ssim_avg))\n",
        "    \n",
        "    pd.DataFrame({'name':np.array(name), 'psnr':np.array(psnr), 'ssim':np.array(ssim)}).to_csv(out_dir+'/metrics.csv', index=True)\n",
        "\n",
        "test(model) "
      ],
      "execution_count": null,
      "outputs": []
    },
    {
      "cell_type": "code",
      "metadata": {
        "id": "NlownTazAi9p"
      },
      "source": [
        ""
      ],
      "execution_count": null,
      "outputs": []
    },
    {
      "cell_type": "code",
      "metadata": {
        "id": "lr--6FFNAj0u"
      },
      "source": [
        "\n",
        "from tensorflow import keras\n",
        "model.load_weights('best_wdsr1.h5')\n"
      ],
      "execution_count": null,
      "outputs": []
    },
    {
      "cell_type": "code",
      "metadata": {
        "id": "NT06R-YfAj0w"
      },
      "source": [
        "import glob\n",
        "import numpy as np\n",
        "import tensorflow as tf\n",
        "import skimage\n",
        "file_list = glob.glob('{}/*.png'.format('data/real'))\n",
        "for file in file_list[:5]:\n",
        "        # read image\n",
        "        image4 = tf.io.read_file(file)\n",
        "        img_clean = tf.image.decode_png(image4, channels=3).numpy()\n",
        "        a = np.random.uniform()\n",
        "        if a<0.2:\n",
        "             \n",
        "              img_test = skimage.util.random_noise(img_clean, mode=\"gaussian\")\n",
        "        elif a<0.4:\n",
        "             \n",
        "              img_test = skimage.util.random_noise(img_clean, mode=\"localvar\")\n",
        "        elif a<0.6:\n",
        "             \n",
        "              img_test = skimage.util.random_noise(img_clean, mode=\"poisson\")\n",
        "        elif a<0.8:\n",
        "             \n",
        "              img_test = skimage.util.random_noise(img_clean, mode=\"s&p\")\n",
        "        else:\n",
        "              \n",
        "              img_test = skimage.util.random_noise(img_clean, mode=\"speckle\")\n",
        "\n",
        "        # predict\n",
        "        x_test = img_test.reshape(1, img_test.shape[0], img_test.shape[1], 3) \n",
        "        y_predict = model.predict(x_test)\n",
        "        import matplotlib.pyplot as plt\n",
        "        plt.figure(figsize=(35,45))\n",
        "      \n",
        "        \n",
        "        plt.subplot(1,2,1)\n",
        "        x_test[0,:,:,:] = np.clip(x_test[0,:,:,:], 0, 1)\n",
        "        plt.imshow(x_test[0,:,:,:])\n",
        "\n",
        "        plt.subplot(1,2,2)\n",
        "        y_predict[0,:,:,:] = np.clip(y_predict[0,:,:,:], 0, 1)\n",
        "        plt.imshow(y_predict[0,:,:,:])\n",
        "        plt.show()\n",
        "              "
      ],
      "execution_count": null,
      "outputs": []
    },
    {
      "cell_type": "markdown",
      "metadata": {
        "id": "4DgeQH1tZ0zz"
      },
      "source": [
        "Results for the best model"
      ]
    },
    {
      "cell_type": "markdown",
      "metadata": {
        "id": "9xW3jpxRYTuY"
      },
      "source": [
        "![Screenshot from 2021-03-28 11-23-48.png](data:image/png;base64,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)"
      ]
    },
    {
      "cell_type": "code",
      "metadata": {
        "id": "0WXtsLKwZz_X"
      },
      "source": [
        ""
      ],
      "execution_count": null,
      "outputs": []
    }
  ]
}